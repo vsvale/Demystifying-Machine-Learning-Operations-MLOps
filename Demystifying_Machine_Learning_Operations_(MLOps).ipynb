{
  "nbformat": 4,
  "nbformat_minor": 0,
  "metadata": {
    "colab": {
      "name": "Demystifying Machine Learning Operations (MLOps).ipynb",
      "provenance": [],
      "collapsed_sections": [],
      "authorship_tag": "ABX9TyMm74vKRc8S7l7iuZswzyJH",
      "include_colab_link": true
    },
    "kernelspec": {
      "name": "python3",
      "display_name": "Python 3"
    }
  },
  "cells": [
    {
      "cell_type": "markdown",
      "metadata": {
        "id": "view-in-github",
        "colab_type": "text"
      },
      "source": [
        "<a href=\"https://colab.research.google.com/github/vsvale/Demystifying-Machine-Learning-Operations-MLOps/blob/main/Demystifying_Machine_Learning_Operations_(MLOps).ipynb\" target=\"_parent\"><img src=\"https://colab.research.google.com/assets/colab-badge.svg\" alt=\"Open In Colab\"/></a>"
      ]
    },
    {
      "cell_type": "markdown",
      "metadata": {
        "id": "8sVyf5lSUPT1"
      },
      "source": [
        "Objetivo: Prever miles per Gallon com objetivo de comprar apenas carros que tenham melhor custo-beneficio"
      ]
    },
    {
      "cell_type": "code",
      "metadata": {
        "colab": {
          "base_uri": "https://localhost:8080/"
        },
        "id": "OpKKy6mqUNFq",
        "outputId": "e37c4f4a-9a2f-4679-9e98-ae26808a3e6d"
      },
      "source": [
        "!git clone https://github.com/vsvale/Demystifying-Machine-Learning-Operations-MLOps.git"
      ],
      "execution_count": null,
      "outputs": [
        {
          "output_type": "stream",
          "text": [
            "Cloning into 'Demystifying-Machine-Learning-Operations-MLOps'...\n",
            "remote: Enumerating objects: 3, done.\u001b[K\n",
            "remote: Counting objects: 100% (3/3), done.\u001b[K\n",
            "remote: Compressing objects: 100% (2/2), done.\u001b[K\n",
            "remote: Total 3 (delta 0), reused 0 (delta 0), pack-reused 0\u001b[K\n",
            "Unpacking objects: 100% (3/3), done.\n"
          ],
          "name": "stdout"
        }
      ]
    },
    {
      "cell_type": "code",
      "metadata": {
        "id": "bUnMc6gOURI5"
      },
      "source": [
        "import pandas as pd\r\n",
        "import numpy as np\r\n",
        "import matplotlib.pyplot() as plt"
      ],
      "execution_count": null,
      "outputs": []
    },
    {
      "cell_type": "code",
      "metadata": {
        "colab": {
          "base_uri": "https://localhost:8080/",
          "height": 204
        },
        "id": "WoN7Mrv3UwO4",
        "outputId": "96d7186d-2491-48d8-a10f-b87f5132b428"
      },
      "source": [
        "automobile_df = pd.read_csv('/content/Demystifying-Machine-Learning-Operations-MLOps/auto-mpg.csv')\r\n",
        "automobile_df.head()"
      ],
      "execution_count": null,
      "outputs": [
        {
          "output_type": "execute_result",
          "data": {
            "text/html": [
              "<div>\n",
              "<style scoped>\n",
              "    .dataframe tbody tr th:only-of-type {\n",
              "        vertical-align: middle;\n",
              "    }\n",
              "\n",
              "    .dataframe tbody tr th {\n",
              "        vertical-align: top;\n",
              "    }\n",
              "\n",
              "    .dataframe thead th {\n",
              "        text-align: right;\n",
              "    }\n",
              "</style>\n",
              "<table border=\"1\" class=\"dataframe\">\n",
              "  <thead>\n",
              "    <tr style=\"text-align: right;\">\n",
              "      <th></th>\n",
              "      <th>mpg</th>\n",
              "      <th>cylinders</th>\n",
              "      <th>displacement</th>\n",
              "      <th>horsepower</th>\n",
              "      <th>weight</th>\n",
              "      <th>acceleration</th>\n",
              "      <th>model year</th>\n",
              "      <th>origin</th>\n",
              "      <th>car name</th>\n",
              "    </tr>\n",
              "  </thead>\n",
              "  <tbody>\n",
              "    <tr>\n",
              "      <th>0</th>\n",
              "      <td>18.0</td>\n",
              "      <td>8</td>\n",
              "      <td>307.0</td>\n",
              "      <td>130</td>\n",
              "      <td>3504</td>\n",
              "      <td>12.0</td>\n",
              "      <td>70</td>\n",
              "      <td>1</td>\n",
              "      <td>chevrolet chevelle malibu</td>\n",
              "    </tr>\n",
              "    <tr>\n",
              "      <th>1</th>\n",
              "      <td>15.0</td>\n",
              "      <td>8</td>\n",
              "      <td>350.0</td>\n",
              "      <td>165</td>\n",
              "      <td>3693</td>\n",
              "      <td>11.5</td>\n",
              "      <td>70</td>\n",
              "      <td>1</td>\n",
              "      <td>buick skylark 320</td>\n",
              "    </tr>\n",
              "    <tr>\n",
              "      <th>2</th>\n",
              "      <td>18.0</td>\n",
              "      <td>8</td>\n",
              "      <td>318.0</td>\n",
              "      <td>150</td>\n",
              "      <td>3436</td>\n",
              "      <td>11.0</td>\n",
              "      <td>70</td>\n",
              "      <td>1</td>\n",
              "      <td>plymouth satellite</td>\n",
              "    </tr>\n",
              "    <tr>\n",
              "      <th>3</th>\n",
              "      <td>16.0</td>\n",
              "      <td>8</td>\n",
              "      <td>304.0</td>\n",
              "      <td>150</td>\n",
              "      <td>3433</td>\n",
              "      <td>12.0</td>\n",
              "      <td>70</td>\n",
              "      <td>1</td>\n",
              "      <td>amc rebel sst</td>\n",
              "    </tr>\n",
              "    <tr>\n",
              "      <th>4</th>\n",
              "      <td>17.0</td>\n",
              "      <td>8</td>\n",
              "      <td>302.0</td>\n",
              "      <td>140</td>\n",
              "      <td>3449</td>\n",
              "      <td>10.5</td>\n",
              "      <td>70</td>\n",
              "      <td>1</td>\n",
              "      <td>ford torino</td>\n",
              "    </tr>\n",
              "  </tbody>\n",
              "</table>\n",
              "</div>"
            ],
            "text/plain": [
              "    mpg  cylinders  displacement  ... model year  origin                   car name\n",
              "0  18.0          8         307.0  ...         70       1  chevrolet chevelle malibu\n",
              "1  15.0          8         350.0  ...         70       1          buick skylark 320\n",
              "2  18.0          8         318.0  ...         70       1         plymouth satellite\n",
              "3  16.0          8         304.0  ...         70       1              amc rebel sst\n",
              "4  17.0          8         302.0  ...         70       1                ford torino\n",
              "\n",
              "[5 rows x 9 columns]"
            ]
          },
          "metadata": {
            "tags": []
          },
          "execution_count": 6
        }
      ]
    },
    {
      "cell_type": "code",
      "metadata": {
        "colab": {
          "base_uri": "https://localhost:8080/"
        },
        "id": "YIoXJkY7U-0A",
        "outputId": "ade9beb0-90a9-4f40-b780-149e5227cbf7"
      },
      "source": [
        "automobile_df.shape"
      ],
      "execution_count": null,
      "outputs": [
        {
          "output_type": "execute_result",
          "data": {
            "text/plain": [
              "(398, 9)"
            ]
          },
          "metadata": {
            "tags": []
          },
          "execution_count": 7
        }
      ]
    },
    {
      "cell_type": "code",
      "metadata": {
        "colab": {
          "base_uri": "https://localhost:8080/"
        },
        "id": "ZL9h-XcFVC6S",
        "outputId": "4ee00c23-6970-439e-d567-85c16cac1ed8"
      },
      "source": [
        "automobile_df.dtypes"
      ],
      "execution_count": null,
      "outputs": [
        {
          "output_type": "execute_result",
          "data": {
            "text/plain": [
              "mpg             float64\n",
              "cylinders         int64\n",
              "displacement    float64\n",
              "horsepower       object\n",
              "weight            int64\n",
              "acceleration    float64\n",
              "model year        int64\n",
              "origin            int64\n",
              "car name         object\n",
              "dtype: object"
            ]
          },
          "metadata": {
            "tags": []
          },
          "execution_count": 8
        }
      ]
    },
    {
      "cell_type": "code",
      "metadata": {
        "id": "_HFaWFjCVmzV"
      },
      "source": [
        "automobile_df['horsepower'] = pd.to_numeric(automobile_df['horsepower'],errors='coerce')"
      ],
      "execution_count": null,
      "outputs": []
    },
    {
      "cell_type": "code",
      "metadata": {
        "colab": {
          "base_uri": "https://localhost:8080/"
        },
        "id": "HtS_kh5hV5tu",
        "outputId": "e7877145-1391-4d19-a2a2-d407b9f09747"
      },
      "source": [
        "automobile_df.isnull().sum()"
      ],
      "execution_count": null,
      "outputs": [
        {
          "output_type": "execute_result",
          "data": {
            "text/plain": [
              "mpg             0\n",
              "cylinders       0\n",
              "displacement    0\n",
              "horsepower      6\n",
              "weight          0\n",
              "acceleration    0\n",
              "model year      0\n",
              "origin          0\n",
              "car name        0\n",
              "dtype: int64"
            ]
          },
          "metadata": {
            "tags": []
          },
          "execution_count": 11
        }
      ]
    },
    {
      "cell_type": "code",
      "metadata": {
        "id": "8LIVSmI0WEJO"
      },
      "source": [
        "automobile_df=automobile_df.fillna(automobile_df.mean())"
      ],
      "execution_count": null,
      "outputs": []
    },
    {
      "cell_type": "code",
      "metadata": {
        "colab": {
          "base_uri": "https://localhost:8080/"
        },
        "id": "jZLfGw_MWUme",
        "outputId": "5d2bfd63-df39-4d4b-ff33-8760aee418e0"
      },
      "source": [
        "automobile_df.isna().sum()"
      ],
      "execution_count": null,
      "outputs": [
        {
          "output_type": "execute_result",
          "data": {
            "text/plain": [
              "mpg             0\n",
              "cylinders       0\n",
              "displacement    0\n",
              "horsepower      0\n",
              "weight          0\n",
              "acceleration    0\n",
              "model year      0\n",
              "origin          0\n",
              "car name        0\n",
              "dtype: int64"
            ]
          },
          "metadata": {
            "tags": []
          },
          "execution_count": 14
        }
      ]
    },
    {
      "cell_type": "code",
      "metadata": {
        "id": "xxBNAkvLWbbA"
      },
      "source": [
        "automobile_df=automobile_df.drop(['car name'],axis=1)"
      ],
      "execution_count": null,
      "outputs": []
    },
    {
      "cell_type": "code",
      "metadata": {
        "colab": {
          "base_uri": "https://localhost:8080/",
          "height": 204
        },
        "id": "tvcbGNOuWscY",
        "outputId": "8e3df2c4-34b7-467f-d952-f85addf4db27"
      },
      "source": [
        "automobile_df.head()"
      ],
      "execution_count": null,
      "outputs": [
        {
          "output_type": "execute_result",
          "data": {
            "text/html": [
              "<div>\n",
              "<style scoped>\n",
              "    .dataframe tbody tr th:only-of-type {\n",
              "        vertical-align: middle;\n",
              "    }\n",
              "\n",
              "    .dataframe tbody tr th {\n",
              "        vertical-align: top;\n",
              "    }\n",
              "\n",
              "    .dataframe thead th {\n",
              "        text-align: right;\n",
              "    }\n",
              "</style>\n",
              "<table border=\"1\" class=\"dataframe\">\n",
              "  <thead>\n",
              "    <tr style=\"text-align: right;\">\n",
              "      <th></th>\n",
              "      <th>mpg</th>\n",
              "      <th>cylinders</th>\n",
              "      <th>displacement</th>\n",
              "      <th>horsepower</th>\n",
              "      <th>weight</th>\n",
              "      <th>acceleration</th>\n",
              "      <th>model year</th>\n",
              "      <th>origin</th>\n",
              "    </tr>\n",
              "  </thead>\n",
              "  <tbody>\n",
              "    <tr>\n",
              "      <th>0</th>\n",
              "      <td>18.0</td>\n",
              "      <td>8</td>\n",
              "      <td>307.0</td>\n",
              "      <td>130.0</td>\n",
              "      <td>3504</td>\n",
              "      <td>12.0</td>\n",
              "      <td>70</td>\n",
              "      <td>1</td>\n",
              "    </tr>\n",
              "    <tr>\n",
              "      <th>1</th>\n",
              "      <td>15.0</td>\n",
              "      <td>8</td>\n",
              "      <td>350.0</td>\n",
              "      <td>165.0</td>\n",
              "      <td>3693</td>\n",
              "      <td>11.5</td>\n",
              "      <td>70</td>\n",
              "      <td>1</td>\n",
              "    </tr>\n",
              "    <tr>\n",
              "      <th>2</th>\n",
              "      <td>18.0</td>\n",
              "      <td>8</td>\n",
              "      <td>318.0</td>\n",
              "      <td>150.0</td>\n",
              "      <td>3436</td>\n",
              "      <td>11.0</td>\n",
              "      <td>70</td>\n",
              "      <td>1</td>\n",
              "    </tr>\n",
              "    <tr>\n",
              "      <th>3</th>\n",
              "      <td>16.0</td>\n",
              "      <td>8</td>\n",
              "      <td>304.0</td>\n",
              "      <td>150.0</td>\n",
              "      <td>3433</td>\n",
              "      <td>12.0</td>\n",
              "      <td>70</td>\n",
              "      <td>1</td>\n",
              "    </tr>\n",
              "    <tr>\n",
              "      <th>4</th>\n",
              "      <td>17.0</td>\n",
              "      <td>8</td>\n",
              "      <td>302.0</td>\n",
              "      <td>140.0</td>\n",
              "      <td>3449</td>\n",
              "      <td>10.5</td>\n",
              "      <td>70</td>\n",
              "      <td>1</td>\n",
              "    </tr>\n",
              "  </tbody>\n",
              "</table>\n",
              "</div>"
            ],
            "text/plain": [
              "    mpg  cylinders  displacement  ...  acceleration  model year  origin\n",
              "0  18.0          8         307.0  ...          12.0          70       1\n",
              "1  15.0          8         350.0  ...          11.5          70       1\n",
              "2  18.0          8         318.0  ...          11.0          70       1\n",
              "3  16.0          8         304.0  ...          12.0          70       1\n",
              "4  17.0          8         302.0  ...          10.5          70       1\n",
              "\n",
              "[5 rows x 8 columns]"
            ]
          },
          "metadata": {
            "tags": []
          },
          "execution_count": 16
        }
      ]
    },
    {
      "cell_type": "code",
      "metadata": {
        "id": "cmzatOsRW056"
      },
      "source": [
        "X = automobile_df.drop('mpg',axis=1)\r\n",
        "Y = automobile_df['mpg']"
      ],
      "execution_count": null,
      "outputs": []
    },
    {
      "cell_type": "code",
      "metadata": {
        "id": "U2ssWlFNXJpq"
      },
      "source": [
        "from sklearn.model_selection import train_test_split\r\n",
        "from sklearn.linear_model import LinearRegression\r\n",
        "from sklearn.metrics import mean_squared_error"
      ],
      "execution_count": null,
      "outputs": []
    },
    {
      "cell_type": "code",
      "metadata": {
        "colab": {
          "base_uri": "https://localhost:8080/"
        },
        "id": "yphxB-RVXdpu",
        "outputId": "42c48dec-a9fb-4f6d-e101-56d847fb6c17"
      },
      "source": [
        "x_train, x_test, y_train, y_test = train_test_split(X,Y,test_size = 0.2)\r\n",
        "linear_model = LinearRegression(normalize=True).fit(x_train,y_train)\r\n",
        "print('R2: ',linear_model.score(x_train,y_train))\r\n",
        "y_pred = linear_model.predict(x_test)\r\n",
        "print('Mean Squared Error: ',mean_squared_error(y_test,y_pred))"
      ],
      "execution_count": null,
      "outputs": [
        {
          "output_type": "stream",
          "text": [
            "R2:  0.8136117493126179\n",
            "Mean Squared Error:  9.228293943298738\n"
          ],
          "name": "stdout"
        }
      ]
    },
    {
      "cell_type": "code",
      "metadata": {
        "colab": {
          "base_uri": "https://localhost:8080/"
        },
        "id": "GDSZtJJ7bcES",
        "outputId": "86395e77-25ad-4df8-b630-e15aebbcdff1"
      },
      "source": [
        "print(linear_model.predict([[6,117,100,3000,15,85,1]]))"
      ],
      "execution_count": null,
      "outputs": [
        {
          "output_type": "stream",
          "text": [
            "[27.10211162]\n"
          ],
          "name": "stdout"
        }
      ]
    },
    {
      "cell_type": "code",
      "metadata": {
        "id": "vU-3Jus6cC4H"
      },
      "source": [
        "import pickle"
      ],
      "execution_count": null,
      "outputs": []
    },
    {
      "cell_type": "code",
      "metadata": {
        "id": "T4sxH_L7cF_F"
      },
      "source": [
        "pickle.dump(linear_model,open('model.pkl','wb'))"
      ],
      "execution_count": null,
      "outputs": []
    },
    {
      "cell_type": "code",
      "metadata": {
        "id": "N7m6RvbOcUMZ"
      },
      "source": [
        "model = pickle.load(open('model.pkl','rb'))"
      ],
      "execution_count": null,
      "outputs": []
    },
    {
      "cell_type": "code",
      "metadata": {
        "colab": {
          "base_uri": "https://localhost:8080/"
        },
        "id": "4SzrH2G2b66J",
        "outputId": "2fab73f0-9fce-4b6b-ee0c-032c7e2eaab5"
      },
      "source": [
        "!pip install flask-ngrok"
      ],
      "execution_count": null,
      "outputs": [
        {
          "output_type": "stream",
          "text": [
            "Collecting flask-ngrok\n",
            "  Downloading https://files.pythonhosted.org/packages/af/6c/f54cb686ad1129e27d125d182f90f52b32f284e6c8df58c1bae54fa1adbc/flask_ngrok-0.0.25-py3-none-any.whl\n",
            "Requirement already satisfied: Flask>=0.8 in /usr/local/lib/python3.7/dist-packages (from flask-ngrok) (1.1.2)\n",
            "Requirement already satisfied: requests in /usr/local/lib/python3.7/dist-packages (from flask-ngrok) (2.23.0)\n",
            "Requirement already satisfied: click>=5.1 in /usr/local/lib/python3.7/dist-packages (from Flask>=0.8->flask-ngrok) (7.1.2)\n",
            "Requirement already satisfied: Werkzeug>=0.15 in /usr/local/lib/python3.7/dist-packages (from Flask>=0.8->flask-ngrok) (1.0.1)\n",
            "Requirement already satisfied: Jinja2>=2.10.1 in /usr/local/lib/python3.7/dist-packages (from Flask>=0.8->flask-ngrok) (2.11.3)\n",
            "Requirement already satisfied: itsdangerous>=0.24 in /usr/local/lib/python3.7/dist-packages (from Flask>=0.8->flask-ngrok) (1.1.0)\n",
            "Requirement already satisfied: idna<3,>=2.5 in /usr/local/lib/python3.7/dist-packages (from requests->flask-ngrok) (2.10)\n",
            "Requirement already satisfied: certifi>=2017.4.17 in /usr/local/lib/python3.7/dist-packages (from requests->flask-ngrok) (2020.12.5)\n",
            "Requirement already satisfied: chardet<4,>=3.0.2 in /usr/local/lib/python3.7/dist-packages (from requests->flask-ngrok) (3.0.4)\n",
            "Requirement already satisfied: urllib3!=1.25.0,!=1.25.1,<1.26,>=1.21.1 in /usr/local/lib/python3.7/dist-packages (from requests->flask-ngrok) (1.24.3)\n",
            "Requirement already satisfied: MarkupSafe>=0.23 in /usr/local/lib/python3.7/dist-packages (from Jinja2>=2.10.1->Flask>=0.8->flask-ngrok) (1.1.1)\n",
            "Installing collected packages: flask-ngrok\n",
            "Successfully installed flask-ngrok-0.0.25\n"
          ],
          "name": "stdout"
        }
      ]
    },
    {
      "cell_type": "code",
      "metadata": {
        "colab": {
          "base_uri": "https://localhost:8080/"
        },
        "id": "IqMWgyP0dCRj",
        "outputId": "c3dc2071-f236-45e1-c039-b7920cbe7493"
      },
      "source": [
        "from flask_ngrok import run_with_ngrok\r\n",
        "from flask import Flask, request\r\n",
        "import requests\r\n",
        "app = Flask(__name__)\r\n",
        "run_with_ngrok(app)\r\n",
        "@app.route('/predict',methods=['POST'])\r\n",
        "def home():\r\n",
        "  cylinders = int(request.args.get('cylinders',''))\r\n",
        "  displacement = int(request.args.get('displacement',''))\r\n",
        "  horsepower = int(request.args.get('horsepower',''))\r\n",
        "  weight = int(request.args.get('weight',''))\r\n",
        "  acceleration = int(request.args.get('acceleration',''))\r\n",
        "  modelYear = int(request.args.get('modelYear',''))\r\n",
        "  origin = int(request.args.get('origin',''))\r\n",
        "  prediction = model.predict([[cylinders,displacement,horsepower,weight,acceleration,modelYear,origin]])\r\n",
        "  #prediction = model.predict([[6,117,100,3000,15,85,1]])\r\n",
        "  print('******************************************')\r\n",
        "  print(prediction)\r\n",
        "  return 'prediction is '+ str(prediction[0])\r\n",
        "\r\n",
        "app.run()"
      ],
      "execution_count": null,
      "outputs": [
        {
          "output_type": "stream",
          "text": [
            " * Serving Flask app \"__main__\" (lazy loading)\n",
            " * Environment: production\n",
            "\u001b[31m   WARNING: This is a development server. Do not use it in a production deployment.\u001b[0m\n",
            "\u001b[2m   Use a production WSGI server instead.\u001b[0m\n",
            " * Debug mode: off\n"
          ],
          "name": "stdout"
        },
        {
          "output_type": "stream",
          "text": [
            " * Running on http://127.0.0.1:5000/ (Press CTRL+C to quit)\n"
          ],
          "name": "stderr"
        },
        {
          "output_type": "stream",
          "text": [
            " * Running on http://a65fd8e01c9e.ngrok.io\n",
            " * Traffic stats available on http://127.0.0.1:4040\n"
          ],
          "name": "stdout"
        },
        {
          "output_type": "stream",
          "text": [
            "127.0.0.1 - - [28/Feb/2021 21:35:37] \"\u001b[33mGET / HTTP/1.1\u001b[0m\" 404 -\n",
            "127.0.0.1 - - [28/Feb/2021 21:35:38] \"\u001b[33mGET /favicon.ico HTTP/1.1\u001b[0m\" 404 -\n",
            "127.0.0.1 - - [28/Feb/2021 21:35:49] \"\u001b[33mGET / HTTP/1.1\u001b[0m\" 404 -\n",
            "127.0.0.1 - - [28/Feb/2021 21:47:22] \"\u001b[37mPOST /predict?cylinders=6&displacement=117&horsepower=100&weight=3000&acceleration=15&modelYear=85&origin=1 HTTP/1.1\u001b[0m\" 200 -\n"
          ],
          "name": "stderr"
        },
        {
          "output_type": "stream",
          "text": [
            "******************************************\n",
            "[27.10211162]\n"
          ],
          "name": "stdout"
        }
      ]
    },
    {
      "cell_type": "markdown",
      "metadata": {
        "id": "27ROuELznQfa"
      },
      "source": [
        "![Postman_mpg.PNG](data:image/png;base64,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)"
      ]
    }
  ]
}